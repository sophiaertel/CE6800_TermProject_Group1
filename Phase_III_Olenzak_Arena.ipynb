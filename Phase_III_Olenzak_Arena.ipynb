{
 "cells": [
  {
   "cell_type": "markdown",
   "metadata": {},
   "source": [
    "# Phase III Code"
   ]
  },
  {
   "cell_type": "markdown",
   "metadata": {},
   "source": [
    "Phase III will utilize code to determine the dimensions of the anicut structure, as well as the percolation pond. The Runoff data from Phase II will be used in order to determine the Max runoff within the past several years. Using the Max runoff value, the volume of the percolation pond will be determined. The height will be determined from analysis of the runoff, and the length then determined from that. The final area of the pond will then be determined. "
   ]
  },
  {
   "cell_type": "code",
   "execution_count": 1,
   "metadata": {},
   "outputs": [],
   "source": [
    "import pandas as pd\n",
    "from pandas import ExcelWriter\n",
    "from pandas import ExcelFile\n",
    "import numpy as np\n",
    "import os"
   ]
  },
  {
   "cell_type": "code",
   "execution_count": 2,
   "metadata": {},
   "outputs": [],
   "source": [
    "from units import unit\n",
    "meter = unit('m')"
   ]
  },
  {
   "cell_type": "markdown",
   "metadata": {},
   "source": [
    "First we want to import the runoff data from Phase II. We have imported the csv file. Depending on the format of the csv, the codes below clean up that data so that the annual runoff is provided."
   ]
  },
  {
   "cell_type": "code",
   "execution_count": 3,
   "metadata": {},
   "outputs": [
    {
     "data": {
      "text/html": [
       "<div>\n",
       "<style scoped>\n",
       "    .dataframe tbody tr th:only-of-type {\n",
       "        vertical-align: middle;\n",
       "    }\n",
       "\n",
       "    .dataframe tbody tr th {\n",
       "        vertical-align: top;\n",
       "    }\n",
       "\n",
       "    .dataframe thead th {\n",
       "        text-align: right;\n",
       "    }\n",
       "</style>\n",
       "<table border=\"1\" class=\"dataframe\">\n",
       "  <thead>\n",
       "    <tr style=\"text-align: right;\">\n",
       "      <th></th>\n",
       "      <th>0</th>\n",
       "      <th>1</th>\n",
       "      <th>2</th>\n",
       "      <th>3</th>\n",
       "      <th>4</th>\n",
       "    </tr>\n",
       "  </thead>\n",
       "  <tbody>\n",
       "    <tr>\n",
       "      <td>SUBDIVISION</td>\n",
       "      <td>West Rajasthan</td>\n",
       "      <td>West Rajasthan</td>\n",
       "      <td>West Rajasthan</td>\n",
       "      <td>West Rajasthan</td>\n",
       "      <td>West Rajasthan</td>\n",
       "    </tr>\n",
       "    <tr>\n",
       "      <td>YEAR</td>\n",
       "      <td>1901</td>\n",
       "      <td>1902</td>\n",
       "      <td>1903</td>\n",
       "      <td>1904</td>\n",
       "      <td>1905</td>\n",
       "    </tr>\n",
       "    <tr>\n",
       "      <td>JAN</td>\n",
       "      <td>6.7</td>\n",
       "      <td>0</td>\n",
       "      <td>1.7</td>\n",
       "      <td>3.8</td>\n",
       "      <td>6.3</td>\n",
       "    </tr>\n",
       "    <tr>\n",
       "      <td>FEB</td>\n",
       "      <td>0</td>\n",
       "      <td>0</td>\n",
       "      <td>1.3</td>\n",
       "      <td>2.9</td>\n",
       "      <td>4.8</td>\n",
       "    </tr>\n",
       "    <tr>\n",
       "      <td>MAR</td>\n",
       "      <td>1.1</td>\n",
       "      <td>0</td>\n",
       "      <td>5.5</td>\n",
       "      <td>16.3</td>\n",
       "      <td>0.7</td>\n",
       "    </tr>\n",
       "    <tr>\n",
       "      <td>APR</td>\n",
       "      <td>0</td>\n",
       "      <td>0.5</td>\n",
       "      <td>0</td>\n",
       "      <td>0.7</td>\n",
       "      <td>1.3</td>\n",
       "    </tr>\n",
       "    <tr>\n",
       "      <td>MAY</td>\n",
       "      <td>6.1</td>\n",
       "      <td>4</td>\n",
       "      <td>4.2</td>\n",
       "      <td>11.4</td>\n",
       "      <td>0.3</td>\n",
       "    </tr>\n",
       "    <tr>\n",
       "      <td>JUN</td>\n",
       "      <td>3</td>\n",
       "      <td>49.1</td>\n",
       "      <td>2.7</td>\n",
       "      <td>14.6</td>\n",
       "      <td>4.9</td>\n",
       "    </tr>\n",
       "    <tr>\n",
       "      <td>JUL</td>\n",
       "      <td>79</td>\n",
       "      <td>27</td>\n",
       "      <td>154.8</td>\n",
       "      <td>39.8</td>\n",
       "      <td>30.1</td>\n",
       "    </tr>\n",
       "    <tr>\n",
       "      <td>AUG</td>\n",
       "      <td>59.2</td>\n",
       "      <td>71.3</td>\n",
       "      <td>87.1</td>\n",
       "      <td>45.6</td>\n",
       "      <td>0.6</td>\n",
       "    </tr>\n",
       "    <tr>\n",
       "      <td>SEP</td>\n",
       "      <td>1</td>\n",
       "      <td>41.8</td>\n",
       "      <td>49.3</td>\n",
       "      <td>21.4</td>\n",
       "      <td>64.5</td>\n",
       "    </tr>\n",
       "    <tr>\n",
       "      <td>OCT</td>\n",
       "      <td>2.1</td>\n",
       "      <td>1.8</td>\n",
       "      <td>0.1</td>\n",
       "      <td>1.4</td>\n",
       "      <td>0</td>\n",
       "    </tr>\n",
       "    <tr>\n",
       "      <td>NOV</td>\n",
       "      <td>0</td>\n",
       "      <td>0</td>\n",
       "      <td>0</td>\n",
       "      <td>2.9</td>\n",
       "      <td>0</td>\n",
       "    </tr>\n",
       "    <tr>\n",
       "      <td>DEC</td>\n",
       "      <td>0.6</td>\n",
       "      <td>0</td>\n",
       "      <td>0.5</td>\n",
       "      <td>7.1</td>\n",
       "      <td>0.9</td>\n",
       "    </tr>\n",
       "    <tr>\n",
       "      <td>ANNUAL</td>\n",
       "      <td>158.9</td>\n",
       "      <td>195.6</td>\n",
       "      <td>307</td>\n",
       "      <td>167.9</td>\n",
       "      <td>114.4</td>\n",
       "    </tr>\n",
       "    <tr>\n",
       "      <td>JF</td>\n",
       "      <td>6.7</td>\n",
       "      <td>0</td>\n",
       "      <td>3</td>\n",
       "      <td>6.6</td>\n",
       "      <td>11</td>\n",
       "    </tr>\n",
       "    <tr>\n",
       "      <td>MAM</td>\n",
       "      <td>7.2</td>\n",
       "      <td>4.5</td>\n",
       "      <td>9.7</td>\n",
       "      <td>28.5</td>\n",
       "      <td>2.4</td>\n",
       "    </tr>\n",
       "    <tr>\n",
       "      <td>JJAS</td>\n",
       "      <td>142.2</td>\n",
       "      <td>189.2</td>\n",
       "      <td>293.8</td>\n",
       "      <td>121.4</td>\n",
       "      <td>100.1</td>\n",
       "    </tr>\n",
       "    <tr>\n",
       "      <td>OND</td>\n",
       "      <td>2.7</td>\n",
       "      <td>1.8</td>\n",
       "      <td>0.5</td>\n",
       "      <td>11.4</td>\n",
       "      <td>0.9</td>\n",
       "    </tr>\n",
       "  </tbody>\n",
       "</table>\n",
       "</div>"
      ],
      "text/plain": [
       "                          0               1               2               3  \\\n",
       "SUBDIVISION  West Rajasthan  West Rajasthan  West Rajasthan  West Rajasthan   \n",
       "YEAR                   1901            1902            1903            1904   \n",
       "JAN                     6.7               0             1.7             3.8   \n",
       "FEB                       0               0             1.3             2.9   \n",
       "MAR                     1.1               0             5.5            16.3   \n",
       "APR                       0             0.5               0             0.7   \n",
       "MAY                     6.1               4             4.2            11.4   \n",
       "JUN                       3            49.1             2.7            14.6   \n",
       "JUL                      79              27           154.8            39.8   \n",
       "AUG                    59.2            71.3            87.1            45.6   \n",
       "SEP                       1            41.8            49.3            21.4   \n",
       "OCT                     2.1             1.8             0.1             1.4   \n",
       "NOV                       0               0               0             2.9   \n",
       "DEC                     0.6               0             0.5             7.1   \n",
       "ANNUAL                158.9           195.6             307           167.9   \n",
       "JF                      6.7               0               3             6.6   \n",
       "MAM                     7.2             4.5             9.7            28.5   \n",
       "JJAS                  142.2           189.2           293.8           121.4   \n",
       "OND                     2.7             1.8             0.5            11.4   \n",
       "\n",
       "                          4  \n",
       "SUBDIVISION  West Rajasthan  \n",
       "YEAR                   1905  \n",
       "JAN                     6.3  \n",
       "FEB                     4.8  \n",
       "MAR                     0.7  \n",
       "APR                     1.3  \n",
       "MAY                     0.3  \n",
       "JUN                     4.9  \n",
       "JUL                    30.1  \n",
       "AUG                     0.6  \n",
       "SEP                    64.5  \n",
       "OCT                       0  \n",
       "NOV                       0  \n",
       "DEC                     0.9  \n",
       "ANNUAL                114.4  \n",
       "JF                       11  \n",
       "MAM                     2.4  \n",
       "JJAS                  100.1  \n",
       "OND                     0.9  "
      ]
     },
     "execution_count": 3,
     "metadata": {},
     "output_type": "execute_result"
    }
   ],
   "source": [
    "Runoff = pd.read_csv('Precipitation.csv')\n",
    "Runoff.head().T\n",
    "\n",
    "#Reading the runoff data produced in Phase II"
   ]
  },
  {
   "cell_type": "code",
   "execution_count": 4,
   "metadata": {},
   "outputs": [
    {
     "data": {
      "text/html": [
       "<div>\n",
       "<style scoped>\n",
       "    .dataframe tbody tr th:only-of-type {\n",
       "        vertical-align: middle;\n",
       "    }\n",
       "\n",
       "    .dataframe tbody tr th {\n",
       "        vertical-align: top;\n",
       "    }\n",
       "\n",
       "    .dataframe thead th {\n",
       "        text-align: right;\n",
       "    }\n",
       "</style>\n",
       "<table border=\"1\" class=\"dataframe\">\n",
       "  <thead>\n",
       "    <tr style=\"text-align: right;\">\n",
       "      <th></th>\n",
       "      <th>0</th>\n",
       "      <th>1</th>\n",
       "      <th>2</th>\n",
       "      <th>3</th>\n",
       "      <th>4</th>\n",
       "    </tr>\n",
       "  </thead>\n",
       "  <tbody>\n",
       "    <tr>\n",
       "      <td>SUBDIVISION</td>\n",
       "      <td>West Rajasthan</td>\n",
       "      <td>West Rajasthan</td>\n",
       "      <td>West Rajasthan</td>\n",
       "      <td>West Rajasthan</td>\n",
       "      <td>West Rajasthan</td>\n",
       "    </tr>\n",
       "    <tr>\n",
       "      <td>YEAR</td>\n",
       "      <td>1901</td>\n",
       "      <td>1902</td>\n",
       "      <td>1903</td>\n",
       "      <td>1904</td>\n",
       "      <td>1905</td>\n",
       "    </tr>\n",
       "    <tr>\n",
       "      <td>JAN</td>\n",
       "      <td>6.7</td>\n",
       "      <td>0</td>\n",
       "      <td>1.7</td>\n",
       "      <td>3.8</td>\n",
       "      <td>6.3</td>\n",
       "    </tr>\n",
       "    <tr>\n",
       "      <td>FEB</td>\n",
       "      <td>0</td>\n",
       "      <td>0</td>\n",
       "      <td>1.3</td>\n",
       "      <td>2.9</td>\n",
       "      <td>4.8</td>\n",
       "    </tr>\n",
       "    <tr>\n",
       "      <td>MAR</td>\n",
       "      <td>1.1</td>\n",
       "      <td>0</td>\n",
       "      <td>5.5</td>\n",
       "      <td>16.3</td>\n",
       "      <td>0.7</td>\n",
       "    </tr>\n",
       "    <tr>\n",
       "      <td>APR</td>\n",
       "      <td>0</td>\n",
       "      <td>0.5</td>\n",
       "      <td>0</td>\n",
       "      <td>0.7</td>\n",
       "      <td>1.3</td>\n",
       "    </tr>\n",
       "    <tr>\n",
       "      <td>MAY</td>\n",
       "      <td>6.1</td>\n",
       "      <td>4</td>\n",
       "      <td>4.2</td>\n",
       "      <td>11.4</td>\n",
       "      <td>0.3</td>\n",
       "    </tr>\n",
       "    <tr>\n",
       "      <td>JUN</td>\n",
       "      <td>3</td>\n",
       "      <td>49.1</td>\n",
       "      <td>2.7</td>\n",
       "      <td>14.6</td>\n",
       "      <td>4.9</td>\n",
       "    </tr>\n",
       "    <tr>\n",
       "      <td>JUL</td>\n",
       "      <td>79</td>\n",
       "      <td>27</td>\n",
       "      <td>154.8</td>\n",
       "      <td>39.8</td>\n",
       "      <td>30.1</td>\n",
       "    </tr>\n",
       "    <tr>\n",
       "      <td>AUG</td>\n",
       "      <td>59.2</td>\n",
       "      <td>71.3</td>\n",
       "      <td>87.1</td>\n",
       "      <td>45.6</td>\n",
       "      <td>0.6</td>\n",
       "    </tr>\n",
       "    <tr>\n",
       "      <td>SEP</td>\n",
       "      <td>1</td>\n",
       "      <td>41.8</td>\n",
       "      <td>49.3</td>\n",
       "      <td>21.4</td>\n",
       "      <td>64.5</td>\n",
       "    </tr>\n",
       "    <tr>\n",
       "      <td>OCT</td>\n",
       "      <td>2.1</td>\n",
       "      <td>1.8</td>\n",
       "      <td>0.1</td>\n",
       "      <td>1.4</td>\n",
       "      <td>0</td>\n",
       "    </tr>\n",
       "    <tr>\n",
       "      <td>NOV</td>\n",
       "      <td>0</td>\n",
       "      <td>0</td>\n",
       "      <td>0</td>\n",
       "      <td>2.9</td>\n",
       "      <td>0</td>\n",
       "    </tr>\n",
       "    <tr>\n",
       "      <td>DEC</td>\n",
       "      <td>0.6</td>\n",
       "      <td>0</td>\n",
       "      <td>0.5</td>\n",
       "      <td>7.1</td>\n",
       "      <td>0.9</td>\n",
       "    </tr>\n",
       "    <tr>\n",
       "      <td>ANNUAL</td>\n",
       "      <td>158.8</td>\n",
       "      <td>195.5</td>\n",
       "      <td>307.2</td>\n",
       "      <td>167.9</td>\n",
       "      <td>114.4</td>\n",
       "    </tr>\n",
       "    <tr>\n",
       "      <td>JF</td>\n",
       "      <td>6.7</td>\n",
       "      <td>0</td>\n",
       "      <td>3</td>\n",
       "      <td>6.6</td>\n",
       "      <td>11</td>\n",
       "    </tr>\n",
       "    <tr>\n",
       "      <td>MAM</td>\n",
       "      <td>7.2</td>\n",
       "      <td>4.5</td>\n",
       "      <td>9.7</td>\n",
       "      <td>28.5</td>\n",
       "      <td>2.4</td>\n",
       "    </tr>\n",
       "    <tr>\n",
       "      <td>JJAS</td>\n",
       "      <td>142.2</td>\n",
       "      <td>189.2</td>\n",
       "      <td>293.8</td>\n",
       "      <td>121.4</td>\n",
       "      <td>100.1</td>\n",
       "    </tr>\n",
       "    <tr>\n",
       "      <td>OND</td>\n",
       "      <td>2.7</td>\n",
       "      <td>1.8</td>\n",
       "      <td>0.5</td>\n",
       "      <td>11.4</td>\n",
       "      <td>0.9</td>\n",
       "    </tr>\n",
       "  </tbody>\n",
       "</table>\n",
       "</div>"
      ],
      "text/plain": [
       "                          0               1               2               3  \\\n",
       "SUBDIVISION  West Rajasthan  West Rajasthan  West Rajasthan  West Rajasthan   \n",
       "YEAR                   1901            1902            1903            1904   \n",
       "JAN                     6.7               0             1.7             3.8   \n",
       "FEB                       0               0             1.3             2.9   \n",
       "MAR                     1.1               0             5.5            16.3   \n",
       "APR                       0             0.5               0             0.7   \n",
       "MAY                     6.1               4             4.2            11.4   \n",
       "JUN                       3            49.1             2.7            14.6   \n",
       "JUL                      79              27           154.8            39.8   \n",
       "AUG                    59.2            71.3            87.1            45.6   \n",
       "SEP                       1            41.8            49.3            21.4   \n",
       "OCT                     2.1             1.8             0.1             1.4   \n",
       "NOV                       0               0               0             2.9   \n",
       "DEC                     0.6               0             0.5             7.1   \n",
       "ANNUAL                158.8           195.5           307.2           167.9   \n",
       "JF                      6.7               0               3             6.6   \n",
       "MAM                     7.2             4.5             9.7            28.5   \n",
       "JJAS                  142.2           189.2           293.8           121.4   \n",
       "OND                     2.7             1.8             0.5            11.4   \n",
       "\n",
       "                          4  \n",
       "SUBDIVISION  West Rajasthan  \n",
       "YEAR                   1905  \n",
       "JAN                     6.3  \n",
       "FEB                     4.8  \n",
       "MAR                     0.7  \n",
       "APR                     1.3  \n",
       "MAY                     0.3  \n",
       "JUN                     4.9  \n",
       "JUL                    30.1  \n",
       "AUG                     0.6  \n",
       "SEP                    64.5  \n",
       "OCT                       0  \n",
       "NOV                       0  \n",
       "DEC                     0.9  \n",
       "ANNUAL                114.4  \n",
       "JF                       11  \n",
       "MAM                     2.4  \n",
       "JJAS                  100.1  \n",
       "OND                     0.9  "
      ]
     },
     "execution_count": 4,
     "metadata": {},
     "output_type": "execute_result"
    }
   ],
   "source": [
    "#Adding the summation of expected runoff for each upcoming year and adding it as its own column\n",
    "annual = [ row.JAN + row.FEB + row.MAR + row.APR + row.MAY + row.JUN + row.JUL + row.AUG + row.SEP + row.OCT + row.NOV + row.DEC for index, row in Runoff.iterrows() ]\n",
    "Runoff['ANNUAL'] = annual\n",
    "Runoff.head().T"
   ]
  },
  {
   "cell_type": "markdown",
   "metadata": {},
   "source": [
    "The code below allows us to obtain the [predicted] maximum runoff that will occur within the next 50 years. This maximum value allows us to know how much water our percolation pond must be able to hold."
   ]
  },
  {
   "cell_type": "code",
   "execution_count": 5,
   "metadata": {},
   "outputs": [
    {
     "data": {
      "text/plain": [
       "768.8"
      ]
     },
     "execution_count": 5,
     "metadata": {},
     "output_type": "execute_result"
    }
   ],
   "source": [
    "#Choosing the maximum capacity yield projected in the next 50 years\n",
    "Runoff['ANNUAL'].max()"
   ]
  },
  {
   "cell_type": "markdown",
   "metadata": {},
   "source": [
    "## *Design of Anicut Structure*\n",
    "***"
   ]
  },
  {
   "cell_type": "markdown",
   "metadata": {},
   "source": [
    "Now we want to begin to dimension the Anicut Structure. *An anicut is a dam built specifically to regulate water for irrigation*. We begin by reading in a file with some geographic information about the valley where the anicut will be built. We need information about the elevation of the valley, as the distance between two points of equal elevation on either side of the valley. "
   ]
  },
  {
   "cell_type": "code",
   "execution_count": 6,
   "metadata": {},
   "outputs": [
    {
     "data": {
      "text/html": [
       "<div>\n",
       "<style scoped>\n",
       "    .dataframe tbody tr th:only-of-type {\n",
       "        vertical-align: middle;\n",
       "    }\n",
       "\n",
       "    .dataframe tbody tr th {\n",
       "        vertical-align: top;\n",
       "    }\n",
       "\n",
       "    .dataframe thead th {\n",
       "        text-align: right;\n",
       "    }\n",
       "</style>\n",
       "<table border=\"1\" class=\"dataframe\">\n",
       "  <thead>\n",
       "    <tr style=\"text-align: right;\">\n",
       "      <th></th>\n",
       "      <th>Elevation</th>\n",
       "      <th>Distance L</th>\n",
       "      <th>Distance R</th>\n",
       "      <th>Distance (English)</th>\n",
       "      <th>Distance (Metric)</th>\n",
       "      <th>Anicut Height (English)</th>\n",
       "      <th>Anicut Height (Metric)</th>\n",
       "      <th>Anicut Height (Rounded)</th>\n",
       "    </tr>\n",
       "  </thead>\n",
       "  <tbody>\n",
       "    <tr>\n",
       "      <td>0</td>\n",
       "      <td>Ft</td>\n",
       "      <td>Ft</td>\n",
       "      <td>Ft</td>\n",
       "      <td>Ft</td>\n",
       "      <td>m</td>\n",
       "      <td>Ft</td>\n",
       "      <td>m</td>\n",
       "      <td>m</td>\n",
       "    </tr>\n",
       "    <tr>\n",
       "      <td>1</td>\n",
       "      <td>1228</td>\n",
       "      <td>606</td>\n",
       "      <td>742</td>\n",
       "      <td>136</td>\n",
       "      <td>41</td>\n",
       "      <td>1</td>\n",
       "      <td>0.30</td>\n",
       "      <td>1</td>\n",
       "    </tr>\n",
       "    <tr>\n",
       "      <td>2</td>\n",
       "      <td>1229</td>\n",
       "      <td>550</td>\n",
       "      <td>782</td>\n",
       "      <td>232</td>\n",
       "      <td>71</td>\n",
       "      <td>2</td>\n",
       "      <td>0.61</td>\n",
       "      <td>1</td>\n",
       "    </tr>\n",
       "    <tr>\n",
       "      <td>3</td>\n",
       "      <td>1230</td>\n",
       "      <td>495</td>\n",
       "      <td>823</td>\n",
       "      <td>328</td>\n",
       "      <td>100</td>\n",
       "      <td>3</td>\n",
       "      <td>0.91</td>\n",
       "      <td>1</td>\n",
       "    </tr>\n",
       "    <tr>\n",
       "      <td>4</td>\n",
       "      <td>1231</td>\n",
       "      <td>443</td>\n",
       "      <td>864</td>\n",
       "      <td>421</td>\n",
       "      <td>128</td>\n",
       "      <td>4</td>\n",
       "      <td>1.22</td>\n",
       "      <td>2</td>\n",
       "    </tr>\n",
       "    <tr>\n",
       "      <td>5</td>\n",
       "      <td>1232</td>\n",
       "      <td>393</td>\n",
       "      <td>903</td>\n",
       "      <td>510</td>\n",
       "      <td>155</td>\n",
       "      <td>5</td>\n",
       "      <td>1.52</td>\n",
       "      <td>2</td>\n",
       "    </tr>\n",
       "    <tr>\n",
       "      <td>6</td>\n",
       "      <td>1233</td>\n",
       "      <td>372</td>\n",
       "      <td>941</td>\n",
       "      <td>569</td>\n",
       "      <td>173</td>\n",
       "      <td>6</td>\n",
       "      <td>1.83</td>\n",
       "      <td>2</td>\n",
       "    </tr>\n",
       "    <tr>\n",
       "      <td>7</td>\n",
       "      <td>1234</td>\n",
       "      <td>353</td>\n",
       "      <td>969</td>\n",
       "      <td>616</td>\n",
       "      <td>188</td>\n",
       "      <td>7</td>\n",
       "      <td>2.13</td>\n",
       "      <td>3</td>\n",
       "    </tr>\n",
       "    <tr>\n",
       "      <td>8</td>\n",
       "      <td>1235</td>\n",
       "      <td>330</td>\n",
       "      <td>991</td>\n",
       "      <td>661</td>\n",
       "      <td>201</td>\n",
       "      <td>8</td>\n",
       "      <td>2.44</td>\n",
       "      <td>3</td>\n",
       "    </tr>\n",
       "    <tr>\n",
       "      <td>9</td>\n",
       "      <td>1236</td>\n",
       "      <td>310</td>\n",
       "      <td>1005</td>\n",
       "      <td>695</td>\n",
       "      <td>212</td>\n",
       "      <td>9</td>\n",
       "      <td>2.74</td>\n",
       "      <td>3</td>\n",
       "    </tr>\n",
       "  </tbody>\n",
       "</table>\n",
       "</div>"
      ],
      "text/plain": [
       "  Elevation Distance L Distance R Distance (English) Distance (Metric)  \\\n",
       "0        Ft         Ft         Ft                 Ft                 m   \n",
       "1      1228        606        742                136                41   \n",
       "2      1229        550        782                232                71   \n",
       "3      1230        495        823                328               100   \n",
       "4      1231        443        864                421               128   \n",
       "5      1232        393        903                510               155   \n",
       "6      1233        372        941                569               173   \n",
       "7      1234        353        969                616               188   \n",
       "8      1235        330        991                661               201   \n",
       "9      1236        310       1005                695               212   \n",
       "\n",
       "  Anicut Height (English) Anicut Height (Metric) Anicut Height (Rounded)  \n",
       "0                      Ft                      m                       m  \n",
       "1                       1                   0.30                       1  \n",
       "2                       2                   0.61                       1  \n",
       "3                       3                   0.91                       1  \n",
       "4                       4                   1.22                       2  \n",
       "5                       5                   1.52                       2  \n",
       "6                       6                   1.83                       2  \n",
       "7                       7                   2.13                       3  \n",
       "8                       8                   2.44                       3  \n",
       "9                       9                   2.74                       3  "
      ]
     },
     "execution_count": 6,
     "metadata": {},
     "output_type": "execute_result"
    }
   ],
   "source": [
    "AE = pd.read_csv('Anicut Elevation.csv')\n",
    "AE\n",
    "\n",
    "#AE = Anicut Elevation"
   ]
  },
  {
   "cell_type": "code",
   "execution_count": 7,
   "metadata": {},
   "outputs": [
    {
     "data": {
      "text/html": [
       "<div>\n",
       "<style scoped>\n",
       "    .dataframe tbody tr th:only-of-type {\n",
       "        vertical-align: middle;\n",
       "    }\n",
       "\n",
       "    .dataframe tbody tr th {\n",
       "        vertical-align: top;\n",
       "    }\n",
       "\n",
       "    .dataframe thead th {\n",
       "        text-align: right;\n",
       "    }\n",
       "</style>\n",
       "<table border=\"1\" class=\"dataframe\">\n",
       "  <thead>\n",
       "    <tr style=\"text-align: right;\">\n",
       "      <th></th>\n",
       "      <th>Elevation</th>\n",
       "      <th>Distance (Metric)</th>\n",
       "      <th>Anicut Height (Metric)</th>\n",
       "    </tr>\n",
       "  </thead>\n",
       "  <tbody>\n",
       "    <tr>\n",
       "      <td>0</td>\n",
       "      <td>Ft</td>\n",
       "      <td>m</td>\n",
       "      <td>m</td>\n",
       "    </tr>\n",
       "    <tr>\n",
       "      <td>1</td>\n",
       "      <td>1228</td>\n",
       "      <td>41</td>\n",
       "      <td>0.30</td>\n",
       "    </tr>\n",
       "    <tr>\n",
       "      <td>2</td>\n",
       "      <td>1229</td>\n",
       "      <td>71</td>\n",
       "      <td>0.61</td>\n",
       "    </tr>\n",
       "    <tr>\n",
       "      <td>3</td>\n",
       "      <td>1230</td>\n",
       "      <td>100</td>\n",
       "      <td>0.91</td>\n",
       "    </tr>\n",
       "    <tr>\n",
       "      <td>4</td>\n",
       "      <td>1231</td>\n",
       "      <td>128</td>\n",
       "      <td>1.22</td>\n",
       "    </tr>\n",
       "    <tr>\n",
       "      <td>5</td>\n",
       "      <td>1232</td>\n",
       "      <td>155</td>\n",
       "      <td>1.52</td>\n",
       "    </tr>\n",
       "    <tr>\n",
       "      <td>6</td>\n",
       "      <td>1233</td>\n",
       "      <td>173</td>\n",
       "      <td>1.83</td>\n",
       "    </tr>\n",
       "    <tr>\n",
       "      <td>7</td>\n",
       "      <td>1234</td>\n",
       "      <td>188</td>\n",
       "      <td>2.13</td>\n",
       "    </tr>\n",
       "    <tr>\n",
       "      <td>8</td>\n",
       "      <td>1235</td>\n",
       "      <td>201</td>\n",
       "      <td>2.44</td>\n",
       "    </tr>\n",
       "    <tr>\n",
       "      <td>9</td>\n",
       "      <td>1236</td>\n",
       "      <td>212</td>\n",
       "      <td>2.74</td>\n",
       "    </tr>\n",
       "  </tbody>\n",
       "</table>\n",
       "</div>"
      ],
      "text/plain": [
       "  Elevation Distance (Metric) Anicut Height (Metric)\n",
       "0        Ft                 m                      m\n",
       "1      1228                41                   0.30\n",
       "2      1229                71                   0.61\n",
       "3      1230               100                   0.91\n",
       "4      1231               128                   1.22\n",
       "5      1232               155                   1.52\n",
       "6      1233               173                   1.83\n",
       "7      1234               188                   2.13\n",
       "8      1235               201                   2.44\n",
       "9      1236               212                   2.74"
      ]
     },
     "execution_count": 7,
     "metadata": {},
     "output_type": "execute_result"
    }
   ],
   "source": [
    "AE1 = AE.drop(['Distance L', 'Distance R', 'Distance (English)','Anicut Height (English)','Anicut Height (Rounded)'], axis=1)\n",
    "AE1"
   ]
  },
  {
   "cell_type": "markdown",
   "metadata": {},
   "source": [
    "The table above records the change in the width of the valley at different elevation intervals. These widths will guide the length of the anicut, depending on the height chosen. **Below, choose a height for your anicut**. The height needs to be in increments of 0.5m for the anicut to be economically built. This height is dependendent on the height of the percolation pond. The **code will determine the required length** of the anicut. "
   ]
  },
  {
   "cell_type": "code",
   "execution_count": 8,
   "metadata": {},
   "outputs": [
    {
     "name": "stdout",
     "output_type": "stream",
     "text": [
      "1.00 m\n"
     ]
    }
   ],
   "source": [
    "Height = 1\n",
    "print(meter(Height))"
   ]
  },
  {
   "cell_type": "code",
   "execution_count": 9,
   "metadata": {},
   "outputs": [
    {
     "name": "stdout",
     "output_type": "stream",
     "text": [
      "Length of Dam = 128 m\n"
     ]
    }
   ],
   "source": [
    "if Height == 0.5:\n",
    "    Length = 71\n",
    "    print('Length of Dam = 71 m')\n",
    "elif Height == 1:\n",
    "    Length = 128\n",
    "    print('Length of Dam = 128 m')\n",
    "elif Height == 1.5:\n",
    "    Length = 155\n",
    "    print('Length of Dam = 155 m')\n",
    "elif Height == 2:\n",
    "    Length = 188\n",
    "    print('Length of Dam = 188 m')\n",
    "elif Height == 2.5: \n",
    "    Length = 212\n",
    "    print('Length of Dam = 212 m')"
   ]
  },
  {
   "cell_type": "markdown",
   "metadata": {},
   "source": [
    "Now that we have the *height* and *length* of the anicut, we can dimension the rest of the anicut. We want to find the **inclined height** and the **volume**. The proposed anicut strcture will be made of reinforced concrete. Unlike an earthen dam, concrete dams will not be subject to erosion on their super sturtcure. Therefore the slope of the upstream face does not need to account for erosion mitigation. The slope for the ustream and downstream faces are designed to have the same slope as to simplify the anicut deisgn. \n",
    "\n",
    "To choose the slope of the anicut, please input the *rise(vertical)* and *run(horizontal)* of the dam's face"
   ]
  },
  {
   "cell_type": "code",
   "execution_count": 10,
   "metadata": {},
   "outputs": [
    {
     "name": "stdout",
     "output_type": "stream",
     "text": [
      "The Angle for the inlcined face of the anicut is 56.309932474020215 Degrees\n"
     ]
    }
   ],
   "source": [
    "import math\n",
    "\n",
    "Vertical = 1.5\n",
    "Horizontal = 1\n",
    "\n",
    "Angle = math.atan(Vertical/Horizontal)*(180/math.pi)\n",
    "print('The Angle for the inlcined face of the anicut is', Angle, 'Degrees')"
   ]
  },
  {
   "cell_type": "code",
   "execution_count": 11,
   "metadata": {},
   "outputs": [
    {
     "name": "stdout",
     "output_type": "stream",
     "text": [
      "The length of the face of the anicut is 1.20 m\n"
     ]
    }
   ],
   "source": [
    "Face_Length = Height/math.sin(Angle*math.pi/180)\n",
    "#Face_Length = The slope of the anicut will be the actual length along the face of the anicut\n",
    "#Face_Length is in meters\n",
    "\n",
    "print('The length of the face of the anicut is', meter(round(Face_Length,2)))"
   ]
  },
  {
   "cell_type": "code",
   "execution_count": 12,
   "metadata": {},
   "outputs": [
    {
     "name": "stdout",
     "output_type": "stream",
     "text": [
      "The surface area of the face of the anicut is 153.84 meters squared\n"
     ]
    }
   ],
   "source": [
    "Face_Surface_Area = Face_Length*Length\n",
    "print('The surface area of the face of the anicut is', round(Face_Surface_Area,2), 'meters squared')"
   ]
  },
  {
   "cell_type": "code",
   "execution_count": null,
   "metadata": {},
   "outputs": [],
   "source": []
  },
  {
   "cell_type": "markdown",
   "metadata": {},
   "source": [
    "Now that we have the *height* and *length* of the anicut, we can determine the volume of the dam as well as the weight of the dam, using normal weight concrete. We assume the anicut's cross section is trapezoidal. In order to determine the volume we need to multiply the cross section of the anicut by the length. The equation for the cross section is that for a trapezoid. The volume of the anicut will multiplied by the unit weight of cocnrete to determine the weight of the anicut. "
   ]
  },
  {
   "cell_type": "code",
   "execution_count": 14,
   "metadata": {},
   "outputs": [],
   "source": [
    "Crest = 2\n",
    "#The crest is the length of the top part of the anicut structure\n",
    "Weight_Concrete = 2406.53 \n",
    "#The weight of Normal Weight Concrete (kg/m^3)"
   ]
  },
  {
   "cell_type": "code",
   "execution_count": 26,
   "metadata": {},
   "outputs": [
    {
     "name": "stdout",
     "output_type": "stream",
     "text": [
      "The volume of the anicut is 341.0 meters cubed\n",
      "The weight of the anicut is 821429.0 kg\n"
     ]
    }
   ],
   "source": [
    "Cross_Section = Height*(Crest+(Crest+((0.5547*Face_Length)*2)))/2\n",
    "\n",
    "Volume_Anicut = Length*Cross_Section\n",
    "print('The volume of the anicut is', round(Volume_Anicut,0), 'meters cubed')\n",
    "\n",
    "Weight_Anicut = Volume_Anicut * Weight_Concrete \n",
    "print('The weight of the anicut is', round(Weight_Anicut,0), 'kg')"
   ]
  },
  {
   "cell_type": "markdown",
   "metadata": {},
   "source": [
    "## Design of Percolation Pond"
   ]
  },
  {
   "cell_type": "markdown",
   "metadata": {},
   "source": [
    "Now, knowing the dimensions of the anicut, we can design for the dimensions of the pond behind it. We begin by reading in a file with some geographic information about the valley where the pond will be located. We need information about the slope of the land directly behind the dam."
   ]
  },
  {
   "cell_type": "code",
   "execution_count": 16,
   "metadata": {},
   "outputs": [
    {
     "data": {
      "text/html": [
       "<div>\n",
       "<style scoped>\n",
       "    .dataframe tbody tr th:only-of-type {\n",
       "        vertical-align: middle;\n",
       "    }\n",
       "\n",
       "    .dataframe tbody tr th {\n",
       "        vertical-align: top;\n",
       "    }\n",
       "\n",
       "    .dataframe thead th {\n",
       "        text-align: right;\n",
       "    }\n",
       "</style>\n",
       "<table border=\"1\" class=\"dataframe\">\n",
       "  <thead>\n",
       "    <tr style=\"text-align: right;\">\n",
       "      <th></th>\n",
       "      <th>0</th>\n",
       "      <th>1</th>\n",
       "      <th>2</th>\n",
       "      <th>3</th>\n",
       "      <th>4</th>\n",
       "    </tr>\n",
       "  </thead>\n",
       "  <tbody>\n",
       "    <tr>\n",
       "      <td>Distance from Dam (Southern/Soutwestern) (ft)</td>\n",
       "      <td>0.0</td>\n",
       "      <td>1.0000</td>\n",
       "      <td>2.0000</td>\n",
       "      <td>3.0000</td>\n",
       "      <td>4.0000</td>\n",
       "    </tr>\n",
       "    <tr>\n",
       "      <td>Elevation (ft)</td>\n",
       "      <td>1227.0</td>\n",
       "      <td>1227.0256</td>\n",
       "      <td>1227.0512</td>\n",
       "      <td>1227.0768</td>\n",
       "      <td>1227.1024</td>\n",
       "    </tr>\n",
       "  </tbody>\n",
       "</table>\n",
       "</div>"
      ],
      "text/plain": [
       "                                                    0          1          2  \\\n",
       "Distance from Dam (Southern/Soutwestern) (ft)     0.0     1.0000     2.0000   \n",
       "Elevation (ft)                                 1227.0  1227.0256  1227.0512   \n",
       "\n",
       "                                                       3          4  \n",
       "Distance from Dam (Southern/Soutwestern) (ft)     3.0000     4.0000  \n",
       "Elevation (ft)                                 1227.0768  1227.1024  "
      ]
     },
     "execution_count": 16,
     "metadata": {},
     "output_type": "execute_result"
    }
   ],
   "source": [
    "PondSlope = pd.read_excel('Slope Elevation.xlsx')\n",
    "PondSlope.head().T"
   ]
  },
  {
   "cell_type": "markdown",
   "metadata": {},
   "source": [
    "The slope is assumed to be constant as concluded by Google Earth Pro. The code below delivers the assumed slope per ft behind the dam. That slope, labeled \"Elevation (ft)\" must be input into the following theta equation to find the angle of the slope. "
   ]
  },
  {
   "cell_type": "code",
   "execution_count": 20,
   "metadata": {},
   "outputs": [
    {
     "data": {
      "text/plain": [
       "Distance from Dam (Southern/Soutwestern) (ft)    1.000000\n",
       "Elevation (ft)                                   0.028792\n",
       "dtype: float64"
      ]
     },
     "execution_count": 20,
     "metadata": {},
     "output_type": "execute_result"
    }
   ],
   "source": [
    "slopes = PondSlope.apply(lambda x: np.polyfit(PondSlope.index, x, 1)[0])\n",
    "slopes\n",
    "#Assume that the slope is constant (because it is very close)\n",
    "#Slope = 0.05 ft/ft\n"
   ]
  },
  {
   "cell_type": "code",
   "execution_count": 21,
   "metadata": {},
   "outputs": [
    {
     "data": {
      "text/plain": [
       "0.02878404796454591"
      ]
     },
     "execution_count": 21,
     "metadata": {},
     "output_type": "execute_result"
    }
   ],
   "source": [
    "theta = math.atan(0.028792)\n",
    "theta"
   ]
  },
  {
   "cell_type": "markdown",
   "metadata": {},
   "source": [
    "The shape of the dam is assumed to be a volumetric triangular, due to the relatively low height. The assumption is that the slope on both sides of the pond ~0. The angle of the sloped ground behind the dam is used with simply geometry to compute the length maximum length behind that dam that can withold water from pouring over the dam. The second equation provides the length needed to withold the assumed annual runoff."
   ]
  },
  {
   "cell_type": "code",
   "execution_count": 22,
   "metadata": {},
   "outputs": [
    {
     "name": "stdout",
     "output_type": "stream",
     "text": [
      "The length of the percolation pond is 35.0 m\n",
      "The length needed for the percolation pon is 12.0125 m\n"
     ]
    }
   ],
   "source": [
    "Length_of_Reservoir = Height/(math.tan(theta))\n",
    "print('The length of the percolation pond is',round(Length_of_Reservoir,0), 'm')\n",
    "\n",
    "Needed_Length = (2)*(Runoff['ANNUAL'].max())/(Height*Length)\n",
    "print('The length needed for the percolation pond is', Needed_Length, 'm')"
   ]
  },
  {
   "cell_type": "markdown",
   "metadata": {},
   "source": [
    "From the code above, an if/else statement is used to decide if the suggested dimensions of the pond are acceptable given the predicted runoff. If dimenions are okay, model is complete. If dimenions will not hole the maximum water catchment, run model again with a different height."
   ]
  },
  {
   "cell_type": "code",
   "execution_count": 19,
   "metadata": {},
   "outputs": [
    {
     "name": "stdout",
     "output_type": "stream",
     "text": [
      "Dimensions of Reservoir are OK!\n",
      "Height of Reservoir =  1 m\n",
      "Width of Dam =  128 m\n",
      "Length of Reservoir =  20.0 m\n"
     ]
    }
   ],
   "source": [
    "if Needed_Length <= Length_of_Reservoir:\n",
    "    print('Dimensions of Reservoir are OK!')\n",
    "    print('Height of Reservoir = ', Height, 'm')\n",
    "    print('Width of Dam = ', Length, 'm')\n",
    "    print('Length of Reservoir = ', round(Length_of_Reservoir,0), 'm')\n",
    "else:\n",
    "    print('Current Dimensions will not hold maximum water catchment.')\n",
    "    print('Height of Reservoir = ', Height, 'm')\n",
    "    print('Width of Dam = ', Length, 'm')\n",
    "    print('Length of Reservoir = ', round(Length_of_Reservoir,0), 'm')"
   ]
  },
  {
   "cell_type": "markdown",
   "metadata": {},
   "source": [
    "End of Code."
   ]
  },
  {
   "cell_type": "code",
   "execution_count": null,
   "metadata": {},
   "outputs": [],
   "source": []
  }
 ],
 "metadata": {
  "kernelspec": {
   "display_name": "Python 3",
   "language": "python",
   "name": "python3"
  },
  "language_info": {
   "codemirror_mode": {
    "name": "ipython",
    "version": 3
   },
   "file_extension": ".py",
   "mimetype": "text/x-python",
   "name": "python",
   "nbconvert_exporter": "python",
   "pygments_lexer": "ipython3",
   "version": "3.7.4"
  }
 },
 "nbformat": 4,
 "nbformat_minor": 2
}
