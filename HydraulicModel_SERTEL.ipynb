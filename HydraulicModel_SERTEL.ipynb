{
 "cells": [
  {
   "cell_type": "markdown",
   "metadata": {},
   "source": [
    "# Hydraulic Equation\n",
    "\n",
    "This portion of the code will import the predicted precipitation for the Bhutiya community for 2020-2070 among other water balance factors and output the necessary catchment yield to properly size the dam-pond system.\n",
    "\n",
    "Catchment Yield (L) = Catchment Area x Avg. Annual Rainfall x Yield Coefficient"
   ]
  },
  {
   "cell_type": "markdown",
   "metadata": {},
   "source": [
    "# Relevent Factors to Calculating Catchment Yield :"
   ]
  },
  {
   "cell_type": "code",
   "execution_count": 12,
   "metadata": {},
   "outputs": [],
   "source": [
    "import pandas as pd"
   ]
  },
  {
   "cell_type": "markdown",
   "metadata": {},
   "source": [
    "## Catchment Area (c_area)    [hectares]\n",
    "The catchment area is the total area of land that contributes runoff into the dam."
   ]
  },
  {
   "cell_type": "code",
   "execution_count": 15,
   "metadata": {},
   "outputs": [],
   "source": [
    "c_area = [100]"
   ]
  },
  {
   "cell_type": "markdown",
   "metadata": {},
   "source": [
    "## Annual Rainfall (p)    [mm/yr]\n",
    "For now, average annual rainfall figures from long term historical records (1901-2017) have been used to determine the amount of runoff generated. While there exists inherent year to year variability in average rainfall, climate change predictions and community member accounts indicate decline in annual rainfall. According to the Australian agricultural ministry, recent research indicates a 10% reduction in rainfall can result in a 30% reduction in runoff, with a significant consequent impact on water supplies. Consideration should be given to the possibility of reduced and less reliable runoff and the impact of this on the frequency of pond filling and its supply.\n",
    "\n",
    "Moving forward, annual rainfall averages will be imported as csv from the Predictive Precipitation Model in Phase I. Rainfall will be predicted in mm from 2020-2070, the projected useful life for the project.\n"
   ]
  },
  {
   "cell_type": "code",
   "execution_count": 16,
   "metadata": {},
   "outputs": [
    {
     "data": {
      "text/html": [
       "<div>\n",
       "<style scoped>\n",
       "    .dataframe tbody tr th:only-of-type {\n",
       "        vertical-align: middle;\n",
       "    }\n",
       "\n",
       "    .dataframe tbody tr th {\n",
       "        vertical-align: top;\n",
       "    }\n",
       "\n",
       "    .dataframe thead th {\n",
       "        text-align: right;\n",
       "    }\n",
       "</style>\n",
       "<table border=\"1\" class=\"dataframe\">\n",
       "  <thead>\n",
       "    <tr style=\"text-align: right;\">\n",
       "      <th></th>\n",
       "      <th>YEAR</th>\n",
       "      <th>ANNUAL</th>\n",
       "    </tr>\n",
       "  </thead>\n",
       "  <tbody>\n",
       "    <tr>\n",
       "      <td>0</td>\n",
       "      <td>1901</td>\n",
       "      <td>412.5</td>\n",
       "    </tr>\n",
       "    <tr>\n",
       "      <td>1</td>\n",
       "      <td>1902</td>\n",
       "      <td>578.3</td>\n",
       "    </tr>\n",
       "    <tr>\n",
       "      <td>2</td>\n",
       "      <td>1903</td>\n",
       "      <td>686.1</td>\n",
       "    </tr>\n",
       "    <tr>\n",
       "      <td>3</td>\n",
       "      <td>1904</td>\n",
       "      <td>694.5</td>\n",
       "    </tr>\n",
       "    <tr>\n",
       "      <td>4</td>\n",
       "      <td>1905</td>\n",
       "      <td>279.8</td>\n",
       "    </tr>\n",
       "    <tr>\n",
       "      <td>...</td>\n",
       "      <td>...</td>\n",
       "      <td>...</td>\n",
       "    </tr>\n",
       "    <tr>\n",
       "      <td>112</td>\n",
       "      <td>2013</td>\n",
       "      <td>836.1</td>\n",
       "    </tr>\n",
       "    <tr>\n",
       "      <td>113</td>\n",
       "      <td>2014</td>\n",
       "      <td>683.3</td>\n",
       "    </tr>\n",
       "    <tr>\n",
       "      <td>114</td>\n",
       "      <td>2015</td>\n",
       "      <td>650.7</td>\n",
       "    </tr>\n",
       "    <tr>\n",
       "      <td>115</td>\n",
       "      <td>2016</td>\n",
       "      <td>860.6</td>\n",
       "    </tr>\n",
       "    <tr>\n",
       "      <td>116</td>\n",
       "      <td>2017</td>\n",
       "      <td>600.3</td>\n",
       "    </tr>\n",
       "  </tbody>\n",
       "</table>\n",
       "<p>117 rows × 2 columns</p>\n",
       "</div>"
      ],
      "text/plain": [
       "     YEAR  ANNUAL\n",
       "0    1901   412.5\n",
       "1    1902   578.3\n",
       "2    1903   686.1\n",
       "3    1904   694.5\n",
       "4    1905   279.8\n",
       "..    ...     ...\n",
       "112  2013   836.1\n",
       "113  2014   683.3\n",
       "114  2015   650.7\n",
       "115  2016   860.6\n",
       "116  2017   600.3\n",
       "\n",
       "[117 rows x 2 columns]"
      ]
     },
     "execution_count": 16,
     "metadata": {},
     "output_type": "execute_result"
    }
   ],
   "source": [
    "# For a more detailed explanation of the data cleansing of precipitation dataset available on data.gov.in refer to the notebook file General_SERTEL\n",
    "p = pd.read_csv('C:\\\\Users\\\\sophiaertel\\\\CE6800\\\\Subdivision_Rainfall1901-2017.csv')\n",
    "p = p[p.SUBDIVISION == 'East Rajasthan']\n",
    "p = p.drop(columns=['SUBDIVISION','JAN','FEB','MAR', 'APR','MAY','JUN','JUL', 'AUG','SEP','OCT','NOV', 'DEC', 'JF', 'MAM', 'JJAS', 'OND'])\n",
    "p.reset_index(drop=True, inplace = True)\n",
    "p"
   ]
  },
  {
   "cell_type": "markdown",
   "metadata": {},
   "source": [
    "## Yield Coefficient (yc)\n",
    "Only a relatively small proportion of the rainfall received in the catchment area actually runs off into watercourses or to fill dams. The majority of it infiltrates into the ground or is intercepted by vegetation. Although many factors influence this, the amount of runoff is proportional to the annual rainfall. This iteration of code will account for the effects of infiltration, evaporation, transpiration and storage and precipitation-runoff conversion with a yield coefficient."
   ]
  },
  {
   "cell_type": "code",
   "execution_count": null,
   "metadata": {},
   "outputs": [],
   "source": []
  }
 ],
 "metadata": {
  "kernelspec": {
   "display_name": "Python 3",
   "language": "python",
   "name": "python3"
  },
  "language_info": {
   "codemirror_mode": {
    "name": "ipython",
    "version": 3
   },
   "file_extension": ".py",
   "mimetype": "text/x-python",
   "name": "python",
   "nbconvert_exporter": "python",
   "pygments_lexer": "ipython3",
   "version": "3.7.4"
  },
  "toc": {
   "base_numbering": 1,
   "nav_menu": {},
   "number_sections": true,
   "sideBar": true,
   "skip_h1_title": false,
   "title_cell": "Table of Contents",
   "title_sidebar": "Contents",
   "toc_cell": false,
   "toc_position": {},
   "toc_section_display": true,
   "toc_window_display": false
  }
 },
 "nbformat": 4,
 "nbformat_minor": 2
}
