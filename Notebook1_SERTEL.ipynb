{
 "cells": [
  {
   "cell_type": "markdown",
   "metadata": {},
   "source": [
    "# Engineers Without Borders GWU x CE6800 Data Science Bhutiya Water Management Program<a class=\"tocSkip\">"
   ]
  },
  {
   "cell_type": "markdown",
   "metadata": {},
   "source": [
    "## General Description\n",
    "This project is in support of the Engineers Without Borders GWU Bhutiya Water Management Program, in their aim to combat climate change-driven water scarcity, over-exploitation of groundwater resources, and inefficient irrigation practices.\n",
    "\n",
    "This project will inform the design process for an integrated dam-percolation pond system for the Bhutiya community. This code seeks to estimate expected rainfall, runoff conversion, and thereby the optimal dimensions and design of the proposed system."
   ]
  },
  {
   "cell_type": "code",
   "execution_count": 1,
   "metadata": {},
   "outputs": [],
   "source": [
    "import pandas as pd\n",
    "import numpy as np\n",
    "import matplotlib.pyplot as plt\n",
    "\n",
    "import geopandas as gpd\n",
    "from shapely.geometry import Point, Polygon\n",
    "\n",
    "from sklearn.linear_model import LogisticRegression\n",
    "from sklearn.ensemble import RandomForestClassifier\n",
    "from sklearn.model_selection import KFold"
   ]
  },
  {
   "cell_type": "code",
   "execution_count": 23,
   "metadata": {},
   "outputs": [],
   "source": [
    "class color:\n",
    "   PURPLE = '\\033[95m'\n",
    "   CYAN = '\\033[96m'\n",
    "   DARKCYAN = '\\033[36m'\n",
    "   BLUE = '\\033[94m'\n",
    "   GREEN = '\\033[92m'\n",
    "   YELLOW = '\\033[93m'\n",
    "   RED = '\\033[91m'\n",
    "   BOLD = '\\033[1m'\n",
    "   UNDERLINE = '\\033[4m'\n",
    "   END = '\\033[0m'"
   ]
  },
  {
   "cell_type": "code",
   "execution_count": 24,
   "metadata": {},
   "outputs": [
    {
     "data": {
      "text/plain": [
       "'C:\\\\Users\\\\sophiaertel\\\\CE6800'"
      ]
     },
     "execution_count": 24,
     "metadata": {},
     "output_type": "execute_result"
    }
   ],
   "source": [
    "import os\n",
    "cwd = os.getcwd()\n",
    "cwd"
   ]
  },
  {
   "cell_type": "markdown",
   "metadata": {},
   "source": [
    "# Insert Table of Contents\n",
    "For installation directions refer to: https://jupyter-contrib-nbextensions.readthedocs.io/en/latest/install.html\n",
    "\n",
    "For usage refer to: https://jupyter-contrib-nbextensions.readthedocs.io/en/latest/nbextensions/toc2/README.html\n",
    "1. Conda install the jupyter_contrib_nbextensions python package and the Javascript and CSS files.\n",
    "    \n",
    "    In Anaconda prompt:\n",
    "    conda install -c conda-forge jupyter_contrib_nbextensions\n",
    "\n",
    "\n",
    "2. Enable extension\n",
    "\n",
    "   Use the jupyter_nbextensions_configurator server extension, which is installed as a dependency of this repo, and can be used to enable and disable the individual nbextensions, as well as configure their options. You can then open the nbextensions tab on the tree (dashboard/file browser) notebook page to configure nbextensions. You will have access there to a dashboard where extensions can be enabled/disabled via checkboxes."
   ]
  },
  {
   "cell_type": "markdown",
   "metadata": {},
   "source": [
    "# Import Open Sourced Datasets\n",
    "\n",
    "## Precipitation\n",
    "\n",
    "Import open source Indian rainfall data as .csv from https://data.gov.in/resources/sub-divisional-monthly-rainfall-1901-2017\n"
   ]
  },
  {
   "cell_type": "code",
   "execution_count": 25,
   "metadata": {},
   "outputs": [],
   "source": [
    "precip = pd.read_csv('C:\\\\Users\\\\sophiaertel\\\\CE6800\\\\Subdivision_Rainfall1901-2017.csv')"
   ]
  },
  {
   "cell_type": "markdown",
   "metadata": {},
   "source": [
    "Clean up dataset to only include relevant subdivision. <p>The Bhutiya village, of the Udaipur district, is classified as East Rajasthan"
   ]
  },
  {
   "cell_type": "code",
   "execution_count": 26,
   "metadata": {},
   "outputs": [],
   "source": [
    "precip = precip[precip.SUBDIVISION == 'East Rajasthan']"
   ]
  },
  {
   "cell_type": "markdown",
   "metadata": {},
   "source": [
    "Dataset to include yearly precipitation averages for seasons & annual. <p>Rainfall seasons are delineated as follows: \n",
    "<p>JF (January/February) -- Dry\n",
    "<p>MAM (March/April/May) -- Dry\n",
    "<p>JJAS (June/July/August/September) -- Monsoon\n",
    "<p>OND (October/November/December) -- Dry"
   ]
  },
  {
   "cell_type": "code",
   "execution_count": 27,
   "metadata": {},
   "outputs": [],
   "source": [
    "precip = precip.drop(columns=['SUBDIVISION','JAN','FEB','MAR', 'APR','MAY','JUN','JUL', 'AUG','SEP','OCT','NOV', 'DEC'])"
   ]
  },
  {
   "cell_type": "markdown",
   "metadata": {},
   "source": [
    "Reset the Index to zero & Display the dataset"
   ]
  },
  {
   "cell_type": "code",
   "execution_count": 29,
   "metadata": {},
   "outputs": [
    {
     "name": "stdout",
     "output_type": "stream",
     "text": [
      "\u001b[1mAverage Precipitation (mm) from 1901-2017 for East Rajasthan\u001b[0m\n"
     ]
    },
    {
     "data": {
      "text/html": [
       "<div>\n",
       "<style scoped>\n",
       "    .dataframe tbody tr th:only-of-type {\n",
       "        vertical-align: middle;\n",
       "    }\n",
       "\n",
       "    .dataframe tbody tr th {\n",
       "        vertical-align: top;\n",
       "    }\n",
       "\n",
       "    .dataframe thead th {\n",
       "        text-align: right;\n",
       "    }\n",
       "</style>\n",
       "<table border=\"1\" class=\"dataframe\">\n",
       "  <thead>\n",
       "    <tr style=\"text-align: right;\">\n",
       "      <th></th>\n",
       "      <th>YEAR</th>\n",
       "      <th>ANNUAL</th>\n",
       "      <th>JF</th>\n",
       "      <th>MAM</th>\n",
       "      <th>JJAS</th>\n",
       "      <th>OND</th>\n",
       "    </tr>\n",
       "  </thead>\n",
       "  <tbody>\n",
       "    <tr>\n",
       "      <td>0</td>\n",
       "      <td>1901</td>\n",
       "      <td>412.5</td>\n",
       "      <td>30.5</td>\n",
       "      <td>8.5</td>\n",
       "      <td>362.9</td>\n",
       "      <td>10.6</td>\n",
       "    </tr>\n",
       "    <tr>\n",
       "      <td>1</td>\n",
       "      <td>1902</td>\n",
       "      <td>578.3</td>\n",
       "      <td>4.8</td>\n",
       "      <td>11.7</td>\n",
       "      <td>544.5</td>\n",
       "      <td>17.2</td>\n",
       "    </tr>\n",
       "    <tr>\n",
       "      <td>2</td>\n",
       "      <td>1903</td>\n",
       "      <td>686.1</td>\n",
       "      <td>2.7</td>\n",
       "      <td>14.2</td>\n",
       "      <td>651.4</td>\n",
       "      <td>17.8</td>\n",
       "    </tr>\n",
       "    <tr>\n",
       "      <td>3</td>\n",
       "      <td>1904</td>\n",
       "      <td>694.5</td>\n",
       "      <td>9.8</td>\n",
       "      <td>49.4</td>\n",
       "      <td>613.3</td>\n",
       "      <td>22.0</td>\n",
       "    </tr>\n",
       "    <tr>\n",
       "      <td>4</td>\n",
       "      <td>1905</td>\n",
       "      <td>279.8</td>\n",
       "      <td>12.8</td>\n",
       "      <td>6.8</td>\n",
       "      <td>259.6</td>\n",
       "      <td>0.6</td>\n",
       "    </tr>\n",
       "    <tr>\n",
       "      <td>...</td>\n",
       "      <td>...</td>\n",
       "      <td>...</td>\n",
       "      <td>...</td>\n",
       "      <td>...</td>\n",
       "      <td>...</td>\n",
       "      <td>...</td>\n",
       "    </tr>\n",
       "    <tr>\n",
       "      <td>112</td>\n",
       "      <td>2013</td>\n",
       "      <td>836.1</td>\n",
       "      <td>23.1</td>\n",
       "      <td>4.6</td>\n",
       "      <td>776.1</td>\n",
       "      <td>32.2</td>\n",
       "    </tr>\n",
       "    <tr>\n",
       "      <td>113</td>\n",
       "      <td>2014</td>\n",
       "      <td>683.3</td>\n",
       "      <td>38.4</td>\n",
       "      <td>22.1</td>\n",
       "      <td>618.4</td>\n",
       "      <td>4.4</td>\n",
       "    </tr>\n",
       "    <tr>\n",
       "      <td>114</td>\n",
       "      <td>2015</td>\n",
       "      <td>650.7</td>\n",
       "      <td>12.1</td>\n",
       "      <td>75.3</td>\n",
       "      <td>557.0</td>\n",
       "      <td>6.3</td>\n",
       "    </tr>\n",
       "    <tr>\n",
       "      <td>115</td>\n",
       "      <td>2016</td>\n",
       "      <td>860.6</td>\n",
       "      <td>1.0</td>\n",
       "      <td>13.3</td>\n",
       "      <td>813.7</td>\n",
       "      <td>32.6</td>\n",
       "    </tr>\n",
       "    <tr>\n",
       "      <td>116</td>\n",
       "      <td>2017</td>\n",
       "      <td>600.3</td>\n",
       "      <td>8.4</td>\n",
       "      <td>21.3</td>\n",
       "      <td>566.9</td>\n",
       "      <td>3.8</td>\n",
       "    </tr>\n",
       "  </tbody>\n",
       "</table>\n",
       "<p>117 rows × 6 columns</p>\n",
       "</div>"
      ],
      "text/plain": [
       "     YEAR  ANNUAL    JF   MAM   JJAS   OND\n",
       "0    1901   412.5  30.5   8.5  362.9  10.6\n",
       "1    1902   578.3   4.8  11.7  544.5  17.2\n",
       "2    1903   686.1   2.7  14.2  651.4  17.8\n",
       "3    1904   694.5   9.8  49.4  613.3  22.0\n",
       "4    1905   279.8  12.8   6.8  259.6   0.6\n",
       "..    ...     ...   ...   ...    ...   ...\n",
       "112  2013   836.1  23.1   4.6  776.1  32.2\n",
       "113  2014   683.3  38.4  22.1  618.4   4.4\n",
       "114  2015   650.7  12.1  75.3  557.0   6.3\n",
       "115  2016   860.6   1.0  13.3  813.7  32.6\n",
       "116  2017   600.3   8.4  21.3  566.9   3.8\n",
       "\n",
       "[117 rows x 6 columns]"
      ]
     },
     "execution_count": 29,
     "metadata": {},
     "output_type": "execute_result"
    }
   ],
   "source": [
    "precip.reset_index(drop=True, inplace = True)\n",
    "print(color.BOLD + 'Average Precipitation (mm) from 1901-2017 for East Rajasthan' + color.END)\n",
    "precip"
   ]
  },
  {
   "cell_type": "code",
   "execution_count": null,
   "metadata": {},
   "outputs": [],
   "source": []
  },
  {
   "cell_type": "code",
   "execution_count": null,
   "metadata": {},
   "outputs": [],
   "source": []
  }
 ],
 "metadata": {
  "kernelspec": {
   "display_name": "Python 3",
   "language": "python",
   "name": "python3"
  },
  "language_info": {
   "codemirror_mode": {
    "name": "ipython",
    "version": 3
   },
   "file_extension": ".py",
   "mimetype": "text/x-python",
   "name": "python",
   "nbconvert_exporter": "python",
   "pygments_lexer": "ipython3",
   "version": "3.7.4"
  },
  "toc": {
   "base_numbering": 1,
   "nav_menu": {},
   "number_sections": true,
   "sideBar": true,
   "skip_h1_title": false,
   "title_cell": "Table of Contents",
   "title_sidebar": "Contents",
   "toc_cell": false,
   "toc_position": {},
   "toc_section_display": true,
   "toc_window_display": true
  }
 },
 "nbformat": 4,
 "nbformat_minor": 2
}
