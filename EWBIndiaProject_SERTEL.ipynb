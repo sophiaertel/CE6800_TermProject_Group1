{
 "cells": [
  {
   "cell_type": "markdown",
   "metadata": {},
   "source": [
    "# Engineers Without Borders GWU Chapter x CE6800 Data Science:\n",
    "# Bhutiya Water Management Program\n",
    "\n",
    "This project is in support of the Engineers Without Borders GWU Bhutiya Water Management Program, in their aim to combat climate change-driven water scarcity, over-exploitation of groundwater resources, and inefficient irrigation practices.\n",
    "\n",
    "This project will inform the design process for an integrated dam-percolation pond system for the Bhutiya community. This code seeks to estimate expected rainfall, runoff conversion, and thereby the optimal dimensions and design of the proposed system."
   ]
  },
  {
   "cell_type": "code",
   "execution_count": null,
   "metadata": {},
   "outputs": [],
   "source": []
  }
 ],
 "metadata": {
  "kernelspec": {
   "display_name": "Python 3",
   "language": "python",
   "name": "python3"
  },
  "language_info": {
   "codemirror_mode": {
    "name": "ipython",
    "version": 3
   },
   "file_extension": ".py",
   "mimetype": "text/x-python",
   "name": "python",
   "nbconvert_exporter": "python",
   "pygments_lexer": "ipython3",
   "version": "3.7.4"
  }
 },
 "nbformat": 4,
 "nbformat_minor": 2
}
